{
 "cells": [
  {
   "cell_type": "markdown",
   "metadata": {
    "deletable": false,
    "editable": false,
    "nbgrader": {
     "grade": false,
     "grade_id": "cell-b4d7d915e2c9c198",
     "locked": true,
     "schema_version": 1,
     "solution": false
    }
   },
   "source": [
    "# SLU14 - k-Nearest Neighbors (kNN)\n",
    "\n",
    "In this notebook we will have exercises covering the following topics:\n",
    "\n",
    "- k-Nearest Neighbours Algorithm\n",
    "- A Primer on Distance\n",
    "- Some considerations about kNN\n",
    "- Using kNN"
   ]
  },
  {
   "cell_type": "code",
   "execution_count": null,
   "metadata": {
    "deletable": false,
    "editable": false,
    "nbgrader": {
     "grade": false,
     "grade_id": "cell-10e27f42036825d8",
     "locked": true,
     "schema_version": 1,
     "solution": false
    }
   },
   "outputs": [],
   "source": [
    "# Place any important imports at the top of the notebook when possible\n",
    "import hashlib\n",
    "import json\n",
    "import numpy as np\n",
    "import os\n",
    "import pandas as pd\n",
    "\n",
    "from sklearn import datasets"
   ]
  },
  {
   "cell_type": "markdown",
   "metadata": {
    "deletable": false,
    "editable": false,
    "nbgrader": {
     "grade": false,
     "grade_id": "cell-463ec86e1e15c6e9",
     "locked": true,
     "schema_version": 1,
     "solution": false
    }
   },
   "source": [
    "## Distances"
   ]
  },
  {
   "cell_type": "markdown",
   "metadata": {
    "deletable": false,
    "editable": false,
    "nbgrader": {
     "grade": false,
     "grade_id": "cell-eeacdcb05a198df9",
     "locked": true,
     "schema_version": 1,
     "solution": false
    }
   },
   "source": [
    "### Exercise 1\n",
    "\n",
    "Define a function called `euclidean_distance`. This function should receive two arguments, `a` and `b`, which are numpy arrays with shape `(N,)`, where `N` is the number of dimensions of the inputs `a` and `b`.\n",
    "\n",
    "If the two arrays don't have the same shape, return None.\n",
    "\n",
    "In case the arguments are valid, return the euclidean distance between them.\n",
    "\n",
    "Of course you know about function [numpy.linalg.norm](https://docs.scipy.org/doc/numpy/reference/generated/numpy.linalg.norm.html), which does exactly what we're asking here, but please take this opportunity to really understand the euclidean distance! Feel free to use it to double check your answer."
   ]
  },
  {
   "cell_type": "code",
   "execution_count": null,
   "metadata": {
    "deletable": false,
    "nbgrader": {
     "grade": false,
     "grade_id": "cell-6e62f4a661edbaf0",
     "locked": false,
     "schema_version": 1,
     "solution": true
    }
   },
   "outputs": [],
   "source": [
    "# implement a function called euclidean_distance\n",
    "\n",
    "def euclidean_distance(a, b):\n",
    "    \"\"\"\n",
    "    Euclidean distance between two vectors.\n",
    "    \n",
    "    Parameters\n",
    "    ----------\n",
    "    a: numpy array with shape (N,)\n",
    "    b: numpy array with shape (N,)\n",
    "    \n",
    "    Returns\n",
    "    ----------\n",
    "    distance: float\n",
    "    \"\"\"\n",
    "\n",
    "    # YOUR CODE HERE\n",
    "    raise NotImplementedError()"
   ]
  },
  {
   "cell_type": "code",
   "execution_count": null,
   "metadata": {
    "deletable": false,
    "editable": false,
    "nbgrader": {
     "grade": true,
     "grade_id": "cell-79f8353bbd6472e8",
     "locked": true,
     "points": 2,
     "schema_version": 1,
     "solution": false
    }
   },
   "outputs": [],
   "source": [
    "tests = [\n",
    "    {\n",
    "        'input': [np.array([1, 2, 4]), np.array([-1, 0, 4])],\n",
    "        'output_hash': '458ddc855db21368d4ad518685fe0b6390ab2ffe862b055de5e38db4ddef5d5b'\n",
    "    },\n",
    "    {\n",
    "        'input': [np.array([1, 2]), np.array([-1, 0, 4])],\n",
    "        'output_hash': '74234e98afe7498fb5daf1f36ac2d78acc339464f950703b8c019892f982b90b'\n",
    "    },\n",
    "    {\n",
    "        'input': [np.array([1]), np.array([-1])],\n",
    "        'output_hash': 'd84bdb34d4eeef4034d77e5403f850e35bc4a51b1143e3a83510e1aaad839748'\n",
    "    },\n",
    "    {\n",
    "        'input': [np.array([0, 0]), np.array([2, 3])],\n",
    "        'output_hash': '4af071103fbaadcc1452241c34cca20c1b851167260370566a4c98f48a2a0e51'\n",
    "    },\n",
    "    {\n",
    "        'input': [np.array([0, 1, 2, 3, 4]), np.array([0, -1, -2, -3, -4])],\n",
    "        'output_hash': '7a5b1e2a7c889dbb9c33156d6c35ec5f69edac8ec4da83f7106bebd404d0d5c0'\n",
    "    }\n",
    "]\n",
    "\n",
    "for test in tests:\n",
    "    answer = euclidean_distance(*test['input'])\n",
    "    answer_hash = hashlib.sha256(json.dumps(answer).encode()).hexdigest()\n",
    "    \n",
    "    assert answer_hash == test['output_hash']"
   ]
  },
  {
   "cell_type": "markdown",
   "metadata": {
    "deletable": false,
    "editable": false,
    "nbgrader": {
     "grade": false,
     "grade_id": "cell-f32c1ab40034bb93",
     "locked": true,
     "schema_version": 1,
     "solution": false
    }
   },
   "source": [
    "### Exercise 2\n",
    "\n",
    "Define a function called `dot_product`. This function should receive two arguments, `a` and `b`, which are numpy arrays with shape `(N,)`, where `N` is the number of dimensions of the inputs `a` and `b`.\n",
    "\n",
    "You can assume the two arrays have the same shape.\n",
    "\n",
    "The function should return the dot product between the arrays.\n",
    "\n",
    "Of course you know about function [numpy.dot](https://docs.scipy.org/doc/numpy/reference/generated/numpy.dot.html), , which does exactly what we're asking here, but please take this opportunity to really understand the dot product! Feel free to use it to double check your answer."
   ]
  },
  {
   "cell_type": "code",
   "execution_count": null,
   "metadata": {
    "deletable": false,
    "nbgrader": {
     "grade": false,
     "grade_id": "cell-43b14f7973bc4e14",
     "locked": false,
     "schema_version": 1,
     "solution": true
    }
   },
   "outputs": [],
   "source": [
    "# implement a function called dot_product\n",
    "\n",
    "def dot_product(a, b):\n",
    "    \"\"\"\n",
    "    Dot product between two vectors.\n",
    "    \n",
    "    Parameters\n",
    "    ----------\n",
    "    a: numpy array with shape (N,)\n",
    "    b: numpy array with shape (N,)\n",
    "    \n",
    "    Returns\n",
    "    ----------\n",
    "    dot_product: float\n",
    "    \"\"\"\n",
    "\n",
    "    # YOUR CODE HERE\n",
    "    raise NotImplementedError()"
   ]
  },
  {
   "cell_type": "code",
   "execution_count": null,
   "metadata": {
    "deletable": false,
    "editable": false,
    "nbgrader": {
     "grade": true,
     "grade_id": "cell-56abbfc68bda30ca",
     "locked": true,
     "points": 2,
     "schema_version": 1,
     "solution": false
    }
   },
   "outputs": [],
   "source": [
    "tests = [\n",
    "    {\n",
    "        'input': [np.array([1, 2, 4]), np.array([-1, 0, 4])],\n",
    "        'output_hash': 'e629fa6598d732768f7c726b4b621285f9c3b85303900aa912017db7617d8bdb'\n",
    "    },\n",
    "    {\n",
    "        'input': [np.array([0, 0]), np.array([2, 3])],\n",
    "        'output_hash': '5feceb66ffc86f38d952786c6d696c79c2dbc239dd4e91b46729d73a27fb57e9'\n",
    "    },\n",
    "    {\n",
    "        'input': [np.array([0, 1, 2, 3, 4]), np.array([0, -1, -2, -3, -4])],\n",
    "        'output_hash': '4cbaf3fbc9b6ccc6d363e9cac9d51c6d3012fc8991a30cbe952c5e92c7927d92'\n",
    "    }\n",
    "]\n",
    "\n",
    "for test in tests:\n",
    "    answer = dot_product(*test['input'])\n",
    "    answer_hash = hashlib.sha256(bytes(str(answer), encoding='utf8')).hexdigest()\n",
    "    \n",
    "    assert answer_hash == test['output_hash']"
   ]
  },
  {
   "cell_type": "markdown",
   "metadata": {
    "deletable": false,
    "editable": false,
    "nbgrader": {
     "grade": false,
     "grade_id": "cell-ce5055e9a3d5ddd2",
     "locked": true,
     "schema_version": 1,
     "solution": false
    }
   },
   "source": [
    "### Exercise 3\n",
    "\n",
    "Define a function called `cosine_distance`. This function should receive two arguments, `a` and `b`, which are numpy arrays with shape `(N,)`, where `N` is the number of dimensions of the inputs `a` and `b`.\n",
    "\n",
    "You can assume the two arrays have the same shape.\n",
    "\n",
    "The function should return the cosine distance between the arrays.\n",
    "\n",
    "Of course you know about function [scipy.distance.cosine](https://docs.scipy.org/doc/scipy-0.14.0/reference/generated/scipy.spatial.distance.cosine.html), which does exactly what we're asking here, but please take this opportunity to really understand the cosine distance! Feel free to use it to double check your answer.\n",
    "\n",
    "After you've implemented the function, take a moment to think what values can the cosine distance function return."
   ]
  },
  {
   "cell_type": "code",
   "execution_count": null,
   "metadata": {
    "deletable": false,
    "nbgrader": {
     "grade": false,
     "grade_id": "cell-fea2e1fad9590587",
     "locked": false,
     "schema_version": 1,
     "solution": true
    }
   },
   "outputs": [],
   "source": [
    "# implement a function called cosine_distance\n",
    "\n",
    "def cosine_distance(a, b):\n",
    "    \"\"\"\n",
    "    Cosine distance between two vectors.\n",
    "    \n",
    "    Parameters\n",
    "    ----------\n",
    "    a: numpy array with shape (N,)\n",
    "    b: numpy array with shape (N,)\n",
    "    \n",
    "    Returns\n",
    "    ----------\n",
    "    cosine_distance: float\n",
    "    \"\"\"\n",
    "\n",
    "    # YOUR CODE HERE\n",
    "    raise NotImplementedError()"
   ]
  },
  {
   "cell_type": "code",
   "execution_count": null,
   "metadata": {
    "deletable": false,
    "editable": false,
    "nbgrader": {
     "grade": true,
     "grade_id": "cell-e8800226668cce18",
     "locked": true,
     "points": 2,
     "schema_version": 1,
     "solution": false
    }
   },
   "outputs": [],
   "source": [
    "tests = [\n",
    "    {\n",
    "        'input': [np.array([1, 2, 4]), np.array([-1, 0, 4])],\n",
    "        'output_hash': '23346dc65c7d4a6f86669a0048b9fe126c2b07b61d54d2609d8fd55d4a8c0298'\n",
    "    },\n",
    "    {\n",
    "        'input': [np.array([0, 1]), np.array([1, 0])],\n",
    "        'output_hash': 'd0ff5974b6aa52cf562bea5921840c032a860a91a3512f7fe8f768f6bbe005f6'\n",
    "    },\n",
    "    {\n",
    "        'input': [np.array([0, 1, 2, 3, 4]), np.array([0, -1, -2, -3, -4])],\n",
    "        'output_hash': 'd84bdb34d4eeef4034d77e5403f850e35bc4a51b1143e3a83510e1aaad839748'\n",
    "    }\n",
    "]\n",
    "\n",
    "for test in tests:\n",
    "    answer = cosine_distance(*test['input'])\n",
    "    answer_hash = hashlib.sha256(bytes(str(answer), encoding='utf8')).hexdigest()\n",
    "    \n",
    "    assert answer_hash == test['output_hash']"
   ]
  },
  {
   "cell_type": "markdown",
   "metadata": {
    "deletable": false,
    "editable": false,
    "nbgrader": {
     "grade": false,
     "grade_id": "cell-504dea6c50a50be1",
     "locked": true,
     "schema_version": 1,
     "solution": false
    }
   },
   "source": [
    "## Implementing the kNN algorithm\n",
    "\n",
    "By hand! Let's do this!"
   ]
  },
  {
   "cell_type": "markdown",
   "metadata": {
    "deletable": false,
    "editable": false,
    "nbgrader": {
     "grade": false,
     "grade_id": "cell-1217971c6312dfe5",
     "locked": true,
     "schema_version": 1,
     "solution": false
    }
   },
   "source": [
    "![lets_do_this](media/lets_do_this.gif)"
   ]
  },
  {
   "cell_type": "markdown",
   "metadata": {
    "deletable": false,
    "editable": false,
    "nbgrader": {
     "grade": false,
     "grade_id": "cell-afacbad08e39318b",
     "locked": true,
     "schema_version": 1,
     "solution": false
    }
   },
   "source": [
    "### Exercise 4\n",
    "\n",
    "The first step is to implement a function that computes a distance between one point and each other point in a dataset.\n",
    "\n",
    "Let's implement a function called `compute_distances`, that:\n",
    "\n",
    "* receives three arguments:\n",
    "    * x, which is a numpy array with shape (d,)\n",
    "    * dataset, which is a numpy array with shape (N, d), where N is the dataset size\n",
    "    * distance_type, which can be 'euclidean', 'cosine', 'dot'\n",
    "* computes the distance between x and all the points in the dataset. You should chose the right distance function, depending on the distance_function value. You can either use the functions that we've implemented above, or import them from numpy/scipy\n",
    "* returns a numpy array of shape (N,) with the computed distances"
   ]
  },
  {
   "cell_type": "code",
   "execution_count": null,
   "metadata": {
    "deletable": false,
    "nbgrader": {
     "grade": false,
     "grade_id": "cell-579a133d5f7272c2",
     "locked": false,
     "schema_version": 1,
     "solution": true
    }
   },
   "outputs": [],
   "source": [
    "# implement a function called compute_distances\n",
    "\n",
    "def compute_distances(x, dataset, distance_type):\n",
    "    \"\"\"\n",
    "    Computes a distance between a point and all the other points in a dataset.\n",
    "    Supported distance functions are: euclidean, dot, cosine.\n",
    "    \n",
    "    Parameters\n",
    "    ----------\n",
    "    x: numpy array with shape (d,)\n",
    "    dataset: numpy array with shape (N, d)\n",
    "    distance_type: string\n",
    "    \n",
    "    Returns\n",
    "    ----------\n",
    "    distances: numpy array with shape (N,)\n",
    "    \"\"\"\n",
    "\n",
    "    # YOUR CODE HERE\n",
    "    raise NotImplementedError()"
   ]
  },
  {
   "cell_type": "code",
   "execution_count": null,
   "metadata": {
    "deletable": false,
    "editable": false,
    "nbgrader": {
     "grade": true,
     "grade_id": "cell-601006c4a24f1f22",
     "locked": true,
     "points": 2,
     "schema_version": 1,
     "solution": false
    }
   },
   "outputs": [],
   "source": [
    "dataset = datasets.load_iris().data\n",
    "x = np.array([4.9, 3.0, 6.1, 2.2])\n",
    "\n",
    "tests = [\n",
    "    {\n",
    "        'input': [x, dataset, 'euclidean'],\n",
    "        'shape_hash': '67a3dda4fee2fa5183caa8e500683a6abd98294337327fd60aef68b9487c7801',\n",
    "        'values_hash': 'e93b4bd20ef83d8f05eff7757354c97062cda3b61ee740e8da49296310d28bed'\n",
    "    },\n",
    "    {\n",
    "        'input': [x, dataset, 'dot'],\n",
    "        'shape_hash': '67a3dda4fee2fa5183caa8e500683a6abd98294337327fd60aef68b9487c7801',\n",
    "        'values_hash': 'c5f4b3c58b023e245eb9eabdb4eb592778c2a8bf13d3de61ec7c2f19c8e49233'\n",
    "    },\n",
    "    {\n",
    "        'input': [x, dataset, 'cosine'],\n",
    "        'shape_hash': '67a3dda4fee2fa5183caa8e500683a6abd98294337327fd60aef68b9487c7801',\n",
    "        'values_hash': '7ff4a704f8627138ccf05a37c35aca037897c312070ee81e8831e289d1e76e45'\n",
    "    }\n",
    "]\n",
    "\n",
    "for test in tests:\n",
    "    answer = compute_distances(*test['input'])\n",
    "    shape_hash = hashlib.sha256(json.dumps(answer.shape).encode()).hexdigest()\n",
    "    values_hash = hashlib.sha256(pd.DataFrame(answer).to_msgpack()).hexdigest()\n",
    "\n",
    "    assert isinstance(answer, np.ndarray), \"The function should return a numpy array!\"\n",
    "    assert shape_hash == test['shape_hash'], \"The returned numpy array has the wrong shape!\"\n",
    "    assert values_hash == test['values_hash'], f\"The returned numpy array has the wrong values!\""
   ]
  },
  {
   "cell_type": "markdown",
   "metadata": {
    "deletable": false,
    "editable": false,
    "nbgrader": {
     "grade": false,
     "grade_id": "cell-a3813d5e73431adf",
     "locked": true,
     "schema_version": 1,
     "solution": false
    }
   },
   "source": [
    "### Exercise 5\n",
    "\n",
    "Now that we have a function that computes the distance between one point and all the other points in a dataset, we need to select the point's nearest neighbours, which are the points in the dataset for which the distance is the minimum.\n",
    "\n",
    "In this exercise, you'll implement a function called `select_nearest_neighbours`, that:\n",
    "\n",
    "* receives two arguments:\n",
    "    * distances, which is a numpy array with distances (like the one returned in the previous question)\n",
    "    * k, which is the number of nearest neighbours that we want to consider\n",
    "* gets the indexes of the k smallest distances\n",
    "* returns a numpy array of shape (k,) with those indexes\n",
    "\n",
    "Hint: check [numpy.argsort](https://docs.scipy.org/doc/numpy/reference/generated/numpy.argsort.html)."
   ]
  },
  {
   "cell_type": "code",
   "execution_count": null,
   "metadata": {
    "deletable": false,
    "nbgrader": {
     "grade": false,
     "grade_id": "cell-85c4b341dcff88cc",
     "locked": false,
     "schema_version": 1,
     "solution": true
    }
   },
   "outputs": [],
   "source": [
    "# implement a function called select_nearest_neighbours\n",
    "\n",
    "def select_nearest_neighbours(distances, k):\n",
    "    \"\"\"\n",
    "    Selects the k nearest neighbours\n",
    "    \n",
    "    Parameters\n",
    "    ----------\n",
    "    distances: numpy array with shape (N,)\n",
    "    k: int, the number of nearest neighbours we want to consider\n",
    "    \n",
    "    Returns\n",
    "    ----------\n",
    "    indexes: numpy array with shape (k,)\n",
    "    \"\"\"\n",
    "\n",
    "    # YOUR CODE HERE\n",
    "    raise NotImplementedError()"
   ]
  },
  {
   "cell_type": "code",
   "execution_count": null,
   "metadata": {
    "deletable": false,
    "editable": false,
    "nbgrader": {
     "grade": true,
     "grade_id": "cell-07282de273cda24e",
     "locked": true,
     "points": 2,
     "schema_version": 1,
     "solution": false
    }
   },
   "outputs": [],
   "source": [
    "# This is to make the random predictable\n",
    "np.random.seed(42) \n",
    "\n",
    "tests = [\n",
    "    {\n",
    "        'input': [np.random.rand(150), 3],\n",
    "        'shape_hash': '06d033ece6645de592db973644cf7357255f24536ff7b03c3b2ace10736f7636',\n",
    "        'values_hash': '16ccd4581f5f0dee9cc908b1fa4cc1519fa699851e3b9488992692e6b387a69c'\n",
    "    },\n",
    "    {\n",
    "        'input': [np.random.rand(49), 10],\n",
    "        'shape_hash': '41164c427f4cf681cc1b50eaf1a175e3574a1d015c6c90fbdaf77aea39d24086',\n",
    "        'values_hash': '906a14eb39b68cf9cce43fa745c6a542d9dd9808776ee0d9da09862145d1f19d'\n",
    "    }\n",
    "]\n",
    "\n",
    "for test in tests:\n",
    "    answer = select_nearest_neighbours(*test['input'])\n",
    "    shape_hash = hashlib.sha256(json.dumps(answer.shape).encode()).hexdigest()\n",
    "    values_hash = hashlib.sha256(pd.DataFrame(answer).to_msgpack()).hexdigest()\n",
    "\n",
    "    assert isinstance(answer, np.ndarray), \"The function should return a numpy array!\"\n",
    "    assert shape_hash == test['shape_hash'], \"The returned numpy array has the wrong shape!\"\n",
    "    assert values_hash == test['values_hash'], \"The returned numpy array has the wrong values!\""
   ]
  },
  {
   "cell_type": "markdown",
   "metadata": {
    "deletable": false,
    "editable": false,
    "nbgrader": {
     "grade": false,
     "grade_id": "cell-517ad31f00e4c79a",
     "locked": true,
     "schema_version": 1,
     "solution": false
    }
   },
   "source": [
    "### Exercise 6\n",
    "\n",
    "Now that we have a function that gets the indexes of the k nearest neighbours, we need to get the values of those neighbours, so that afterwards we can predict the label for our point.\n",
    "\n",
    "In this exercise, you'll implement a function called `get_nn_labels`, that:\n",
    "\n",
    "* receives two arguments:\n",
    "    * neighbour_indexes, which are the indexes of the k nearest neighbours (like the output of the last function)\n",
    "    * y_train, which is a numpy array with the targets from the a training set\n",
    "* gets the values from y_train using the indexes from neighbour_indexes\n",
    "* returns a numpy array of shape (k,) with those values"
   ]
  },
  {
   "cell_type": "code",
   "execution_count": null,
   "metadata": {
    "deletable": false,
    "nbgrader": {
     "grade": false,
     "grade_id": "cell-f9d4962cb0206df9",
     "locked": false,
     "schema_version": 1,
     "solution": true
    }
   },
   "outputs": [],
   "source": [
    "# implement a function called get_nn_labels\n",
    "\n",
    "def get_nn_labels(y_train, neighbour_indexes):\n",
    "    \"\"\"\n",
    "    Selects the label values from the k nearest neighbours\n",
    "    \n",
    "    Parameters\n",
    "    ----------\n",
    "    y_train: numpy array with shape (N,)\n",
    "    neighbour_indexes: numpy array with shape (k,)\n",
    "    \n",
    "    Returns\n",
    "    ----------\n",
    "    labels: numpy array with shape (k,)\n",
    "    \"\"\"\n",
    "\n",
    "    # YOUR CODE HERE\n",
    "    raise NotImplementedError()"
   ]
  },
  {
   "cell_type": "code",
   "execution_count": null,
   "metadata": {
    "deletable": false,
    "editable": false,
    "nbgrader": {
     "grade": true,
     "grade_id": "cell-10829453a40bdac6",
     "locked": true,
     "points": 1,
     "schema_version": 1,
     "solution": false
    }
   },
   "outputs": [],
   "source": [
    "np.random.seed(42) \n",
    "\n",
    "tests = [\n",
    "    {\n",
    "        'input': [np.random.rand(150), np.random.randint(0, 3, 3)],\n",
    "        'shape_hash': '06d033ece6645de592db973644cf7357255f24536ff7b03c3b2ace10736f7636',\n",
    "        'values_hash': '885898e375fdb246fb20d496e9a2824482176db9ac57534157a1e54e0f7da325'\n",
    "    },\n",
    "    {\n",
    "        'input': [np.random.rand(10), np.random.randint(0, 3, 7)],\n",
    "        'shape_hash': '589ffd3acf522ae81192579f297589e93b0c41f748b224d1b4bb5c857a2f70cb',\n",
    "        'values_hash': 'aaa75b9bc30fe6b551b1c8b76bb65d457ad111f75df95319f1493f9da49490fe'\n",
    "    }\n",
    "]\n",
    "\n",
    "for test in tests:\n",
    "    answer = get_nn_labels(*test['input'])\n",
    "    shape_hash = hashlib.sha256(json.dumps(answer.shape).encode()).hexdigest()\n",
    "    values_hash = hashlib.sha256(pd.DataFrame(answer).to_msgpack()).hexdigest()\n",
    "\n",
    "    assert isinstance(answer, np.ndarray), \"The function should return a numpy array!\"\n",
    "    assert shape_hash == test['shape_hash'], \"The returned numpy array has the wrong shape!\"\n",
    "    assert values_hash == test['values_hash'], \"The returned numpy array has the wrong values!\""
   ]
  },
  {
   "cell_type": "markdown",
   "metadata": {
    "deletable": false,
    "editable": false,
    "nbgrader": {
     "grade": false,
     "grade_id": "cell-024239d63f8c5d01",
     "locked": true,
     "schema_version": 1,
     "solution": false
    }
   },
   "source": [
    "### Exercise 7\n",
    "\n",
    "Next we need to predict a label for our point based on the labels of the nearest neighbours.\n",
    "\n",
    "In this exercise, you'll implement a function called `predict_label_majority`, that:\n",
    "\n",
    "* receives one argument:\n",
    "    * nn_labels, which are the labels from the k nearest neighbours\n",
    "* returns the most frequent label"
   ]
  },
  {
   "cell_type": "code",
   "execution_count": null,
   "metadata": {
    "deletable": false,
    "nbgrader": {
     "grade": false,
     "grade_id": "cell-2bb5e40e2eb26f8c",
     "locked": false,
     "schema_version": 1,
     "solution": true
    }
   },
   "outputs": [],
   "source": [
    "# implement a function called predict_label_majority\n",
    "\n",
    "def predict_label_majority(nn_labels):\n",
    "    \"\"\"\n",
    "    Selects the most frequent label in nn_labels\n",
    "    \n",
    "    Parameters\n",
    "    ----------\n",
    "    nn_labels: numpy array with shape (k,)\n",
    "    \n",
    "    Returns\n",
    "    ----------\n",
    "    label: int\n",
    "    \"\"\"\n",
    "\n",
    "    # YOUR CODE HERE\n",
    "    raise NotImplementedError()"
   ]
  },
  {
   "cell_type": "code",
   "execution_count": null,
   "metadata": {
    "deletable": false,
    "editable": false,
    "nbgrader": {
     "grade": true,
     "grade_id": "cell-52fb6a8a51b6ff92",
     "locked": true,
     "points": 2,
     "schema_version": 1,
     "solution": false
    }
   },
   "outputs": [],
   "source": [
    "np.random.seed(42)\n",
    "\n",
    "tests = [\n",
    "    {\n",
    "        'input': [np.random.randint(0, 3, 3)],\n",
    "        'values_hash': 'd4735e3a265e16eee03f59718b9b5d03019c07d8b6c51f90da3a666eec13ab35'\n",
    "    },\n",
    "    {\n",
    "        'input': [np.random.randint(0, 3, 5)],\n",
    "        'values_hash': '5feceb66ffc86f38d952786c6d696c79c2dbc239dd4e91b46729d73a27fb57e9'\n",
    "    }\n",
    "]\n",
    "\n",
    "for test in tests:\n",
    "    answer = predict_label_majority(*test['input'])\n",
    "    values_hash = hashlib.sha256(bytes(str(answer), encoding='utf8')).hexdigest()\n",
    "\n",
    "    assert isinstance(answer, int), \"The function should return an integer!\"\n",
    "    assert values_hash == test['values_hash'], \"The returned int has the wrong value!\""
   ]
  },
  {
   "cell_type": "markdown",
   "metadata": {
    "deletable": false,
    "editable": false,
    "nbgrader": {
     "grade": false,
     "grade_id": "cell-75c560ee36ba7ee3",
     "locked": true,
     "schema_version": 1,
     "solution": false
    }
   },
   "source": [
    "### Exercise 8\n",
    "\n",
    "Finally we can put everything together and implement the knn classifier!\n",
    "\n",
    "In this exercise, you'll implement a function called `knn_classifier`, that:\n",
    "\n",
    "* receives five arguments:\n",
    "    * x, which is a numpy array with shape (d,)\n",
    "    * dataset, which is a numpy array with shape (N, d), where N is the dataset size\n",
    "    * targets, which is a numpy array with shape (N,), that has the targets for each of the points in the dataset\n",
    "    * k, which is the number of nearest neighbours our knn algorithm will consider\n",
    "    * distance_function, which can be 'euclidean', 'cosine', 'dot'\n",
    "* uses all the functions that we implemented above in order to implement a knn_classifier!"
   ]
  },
  {
   "cell_type": "code",
   "execution_count": null,
   "metadata": {
    "deletable": false,
    "nbgrader": {
     "grade": false,
     "grade_id": "cell-3f9aa28fb4a072fc",
     "locked": false,
     "schema_version": 1,
     "solution": true
    }
   },
   "outputs": [],
   "source": [
    "# implement a function called knn_classifier\n",
    "\n",
    "def knn_classifier(x, dataset, targets, k, distance_function):\n",
    "    \"\"\"\n",
    "    Predicts the label for a single point, given a dataset, a value for k and a distance function\n",
    "    \n",
    "    Parameters\n",
    "    ----------\n",
    "    x: numpy array with shape (d,)\n",
    "    dataset: numpy array with shape (N, d)\n",
    "    targets: numpy array with shape (N,)\n",
    "    k: int\n",
    "    distance_function: string\n",
    "    \n",
    "    Returns\n",
    "    ----------\n",
    "    label: int\n",
    "    \"\"\"\n",
    "\n",
    "    # YOUR CODE HERE\n",
    "    raise NotImplementedError()"
   ]
  },
  {
   "cell_type": "code",
   "execution_count": null,
   "metadata": {
    "deletable": false,
    "editable": false,
    "nbgrader": {
     "grade": true,
     "grade_id": "cell-5aa854b52cad24aa",
     "locked": true,
     "points": 1,
     "schema_version": 1,
     "solution": false
    }
   },
   "outputs": [],
   "source": [
    "dataset = datasets.load_iris().data\n",
    "targets = datasets.load_iris().target\n",
    "x = np.array([4.9, 3.0, 6.1, 2.2])\n",
    "\n",
    "tests = [\n",
    "    {\n",
    "        'input': [x, dataset, targets, 3, 'euclidean'],\n",
    "        'values_hash': 'd4735e3a265e16eee03f59718b9b5d03019c07d8b6c51f90da3a666eec13ab35'\n",
    "    },\n",
    "    {\n",
    "        'input': [x, dataset, targets, 5, 'dot'],\n",
    "        'values_hash': '5feceb66ffc86f38d952786c6d696c79c2dbc239dd4e91b46729d73a27fb57e9'\n",
    "    },\n",
    "    {\n",
    "        'input': [x, dataset, targets, 1, 'cosine'],\n",
    "        'values_hash': 'd4735e3a265e16eee03f59718b9b5d03019c07d8b6c51f90da3a666eec13ab35'\n",
    "    }\n",
    "]\n",
    "\n",
    "for test in tests:\n",
    "    answer = knn_classifier(*test['input'])\n",
    "    values_hash = hashlib.sha256(bytes(str(answer), encoding='utf8')).hexdigest()\n",
    "\n",
    "    assert isinstance(answer, int), \"The function should return an integer!\"\n",
    "    assert values_hash == test['values_hash'], \"The returned int has the wrong value!\""
   ]
  },
  {
   "cell_type": "markdown",
   "metadata": {
    "deletable": false,
    "editable": false,
    "nbgrader": {
     "grade": false,
     "grade_id": "cell-2ee17f126f1a73d7",
     "locked": true,
     "schema_version": 1,
     "solution": false
    }
   },
   "source": [
    "Now that we've implemented a knn classifier, let's go a bit further and implement a knn regressor!\n",
    "\n",
    "Luckily, we can reuse most of the functions we've already implemented!\n",
    "\n",
    "Keep up the good work, we're almost there!"
   ]
  },
  {
   "cell_type": "markdown",
   "metadata": {
    "deletable": false,
    "editable": false,
    "nbgrader": {
     "grade": false,
     "grade_id": "cell-dea39d8bb2bae597",
     "locked": true,
     "schema_version": 1,
     "solution": false
    }
   },
   "source": [
    "![almost_there](media/almost_there.gif)"
   ]
  },
  {
   "cell_type": "markdown",
   "metadata": {
    "deletable": false,
    "editable": false,
    "nbgrader": {
     "grade": false,
     "grade_id": "cell-cc945e549ac117f2",
     "locked": true,
     "schema_version": 1,
     "solution": false
    }
   },
   "source": [
    "### Exercise 9\n",
    "\n",
    "As we explained in the learning notebook, the main difference between a knn classifier and a knn regressor is the way we chose the predicted label from the labels of the nearest neighbours.\n",
    "\n",
    "For the classifier case we used a majority vote. In the regressor case, we want to use an the average value of the neighbours' labels.\n",
    "\n",
    "In this exercise, you'll implement a function called `predict_label_average`, that:\n",
    "\n",
    "* receives one argument:\n",
    "    * nn_labels, which are the labels from the k nearest neighbours\n",
    "* returns the average of the nearest neighbours' labels"
   ]
  },
  {
   "cell_type": "code",
   "execution_count": null,
   "metadata": {
    "deletable": false,
    "nbgrader": {
     "grade": false,
     "grade_id": "cell-33d0f1adaca50dba",
     "locked": false,
     "schema_version": 1,
     "solution": true
    }
   },
   "outputs": [],
   "source": [
    "# implement a function called predict_label_majority\n",
    "\n",
    "def predict_label_average(nn_labels):\n",
    "    \"\"\"\n",
    "    Gets the average of the labels from the nearest neighbours\n",
    "    \n",
    "    Parameters\n",
    "    ----------\n",
    "    nn_labels: numpy array with shape (k,)\n",
    "    \n",
    "    Returns\n",
    "    ----------\n",
    "    label: float\n",
    "    \"\"\"\n",
    "\n",
    "    # YOUR CODE HERE\n",
    "    raise NotImplementedError()"
   ]
  },
  {
   "cell_type": "code",
   "execution_count": null,
   "metadata": {
    "deletable": false,
    "editable": false,
    "nbgrader": {
     "grade": true,
     "grade_id": "cell-2dcba0438d15f319",
     "locked": true,
     "points": 2,
     "schema_version": 1,
     "solution": false
    }
   },
   "outputs": [],
   "source": [
    "np.random.seed(42) \n",
    "\n",
    "tests = [\n",
    "    {\n",
    "        'input': [np.random.rand(3)],\n",
    "        'values_hash': 'a51b85f1f95fa6392b62c506147e21943c9c59edd32e66934a876fc148f3d70a'\n",
    "    },\n",
    "    {\n",
    "        'input': [np.random.rand(5)],\n",
    "        'values_hash': 'e690108b78c8cde6fbffd37a37d6e737bbd0ef836f19463d90642cf81d18f8d7'\n",
    "    }\n",
    "]\n",
    "\n",
    "for test in tests:\n",
    "    answer = predict_label_average(*test['input'])\n",
    "    values_hash = hashlib.sha256(bytes(str(answer), encoding='utf8')).hexdigest()\n",
    "\n",
    "    assert isinstance(answer, float), \"The function should return a float!\"\n",
    "    assert values_hash == test['values_hash'], \"The returned int has the wrong value!\""
   ]
  },
  {
   "cell_type": "markdown",
   "metadata": {
    "deletable": false,
    "editable": false,
    "nbgrader": {
     "grade": false,
     "grade_id": "cell-7a3f694fbcb9bc02",
     "locked": true,
     "schema_version": 1,
     "solution": false
    }
   },
   "source": [
    "### Exercise 10\n",
    "\n",
    "And we're ready to implement the knn regressor!\n",
    "\n",
    "In this exercise, you'll implement a function called `knn_regressor`, that:\n",
    "\n",
    "* receives five arguments:\n",
    "    * x, which is a numpy array with shape (d,)\n",
    "    * dataset, which is a numpy array with shape (N, d), where N is the dataset size, and d is the number of dimensions that the points in the dataset have\n",
    "    * targets, which is a numpy array with shape (N,), that has the targets for each of the points in the dataset\n",
    "    * k, which is the number of nearest neighbours our knn algorithm will consider\n",
    "    * distance_function, which can be 'euclidean', 'cosine', 'dot'\n",
    "* uses all the functions that we implemented above in order to implement a knn_regressor!"
   ]
  },
  {
   "cell_type": "code",
   "execution_count": null,
   "metadata": {
    "deletable": false,
    "nbgrader": {
     "grade": false,
     "grade_id": "cell-5cb72f729002e93f",
     "locked": false,
     "schema_version": 1,
     "solution": true
    }
   },
   "outputs": [],
   "source": [
    "# implement a function called knn_classifier\n",
    "\n",
    "def knn_regressor(x, dataset, targets, k, distance_function):\n",
    "    \"\"\"\n",
    "    Predicts the label for a single point, given a dataset, a value for k and a distance function\n",
    "    \n",
    "    Parameters\n",
    "    ----------\n",
    "    x: numpy array with shape (d,)\n",
    "    dataset: numpy array with shape (N, d)\n",
    "    targets: numpy array with shape (N,)\n",
    "    k: int\n",
    "    distance_function: string\n",
    "    \n",
    "    Returns\n",
    "    ----------\n",
    "    label: float\n",
    "    \"\"\"\n",
    "\n",
    "    # YOUR CODE HERE\n",
    "    raise NotImplementedError()"
   ]
  },
  {
   "cell_type": "code",
   "execution_count": null,
   "metadata": {
    "deletable": false,
    "editable": false,
    "nbgrader": {
     "grade": true,
     "grade_id": "cell-90a7594798c1c9fe",
     "locked": true,
     "points": 1,
     "schema_version": 1,
     "solution": false
    }
   },
   "outputs": [],
   "source": [
    "np.random.seed(42)\n",
    "dataset = datasets.load_diabetes().data\n",
    "targets = datasets.load_diabetes().target\n",
    "x = np.random.rand(10)\n",
    "\n",
    "tests = [\n",
    "    {\n",
    "        'input': [x, dataset, targets, 3, 'euclidean'],\n",
    "        'values_hash': 'fedae6123a9e1fda9a8dcd5fbfb27e676da71ca1bf203d81f82ce5cbddfd9c11'\n",
    "    },\n",
    "    {\n",
    "        'input': [x, dataset, targets, 5, 'dot'],\n",
    "        'values_hash': 'b670bb7fe40252ddd379754f8d87019df1bdec567e1a27b584a1d008c89aac21'\n",
    "    },\n",
    "    {\n",
    "        'input': [x, dataset, targets, 1, 'cosine'],\n",
    "        'values_hash': '35e4317a25a2aa7d64995276875e85a24d3fb85a4d21c7f95ef115fa6211f673'\n",
    "    }\n",
    "]\n",
    "\n",
    "for test in tests:\n",
    "    answer = knn_regressor(*test['input'])\n",
    "    values_hash = hashlib.sha256(bytes(str(answer), encoding='utf8')).hexdigest()\n",
    "\n",
    "    assert isinstance(answer, float), \"The function should return an integer!\"\n",
    "    assert values_hash == test['values_hash'], \"The returned int has the wrong value!\""
   ]
  },
  {
   "cell_type": "markdown",
   "metadata": {
    "deletable": false,
    "editable": false,
    "nbgrader": {
     "grade": false,
     "grade_id": "cell-5e58c10a7fb9bd1f",
     "locked": true,
     "schema_version": 1,
     "solution": false
    }
   },
   "source": [
    "**Well done!!!**"
   ]
  },
  {
   "cell_type": "markdown",
   "metadata": {
    "deletable": false,
    "editable": false,
    "nbgrader": {
     "grade": false,
     "grade_id": "cell-8046f36d570b2100",
     "locked": true,
     "schema_version": 1,
     "solution": false
    }
   },
   "source": [
    "![we_did_it](media/we_did_it.gif)"
   ]
  },
  {
   "cell_type": "markdown",
   "metadata": {
    "deletable": false,
    "editable": false,
    "nbgrader": {
     "grade": false,
     "grade_id": "cell-49a7da6e8b5dc30a",
     "locked": true,
     "schema_version": 1,
     "solution": false
    }
   },
   "source": [
    "Finally let's wrap this up with a couple of exercises on how to use scikit's knn models.\n",
    "\n",
    "## Using scikit's knn models"
   ]
  },
  {
   "cell_type": "markdown",
   "metadata": {
    "deletable": false,
    "editable": false,
    "nbgrader": {
     "grade": false,
     "grade_id": "cell-29d1ac30de7cb219",
     "locked": true,
     "schema_version": 1,
     "solution": false
    }
   },
   "source": [
    "### Exercise 11\n",
    "\n",
    "Use a `KNeighborsClassifier` to create predictions for the [wine dataset](https://scikit-learn.org/stable/modules/generated/sklearn.datasets.load_wine.html#sklearn.datasets.load_wine).\n",
    "\n",
    "Follow the instructions in the comments, in the exercise cell."
   ]
  },
  {
   "cell_type": "code",
   "execution_count": null,
   "metadata": {
    "deletable": false,
    "editable": false,
    "nbgrader": {
     "grade": false,
     "grade_id": "cell-2f75ec8dc1d54dd9",
     "locked": true,
     "schema_version": 1,
     "solution": false
    }
   },
   "outputs": [],
   "source": [
    "import numpy as np\n",
    "import pandas as pd\n",
    "import hashlib\n",
    "import json\n",
    "\n",
    "from scipy.spatial.distance import cosine\n",
    "from sklearn.model_selection import train_test_split\n",
    "from sklearn.neighbors import KNeighborsClassifier, KNeighborsRegressor\n",
    "from sklearn.metrics import accuracy_score"
   ]
  },
  {
   "cell_type": "code",
   "execution_count": null,
   "metadata": {
    "deletable": false,
    "nbgrader": {
     "grade": false,
     "grade_id": "cell-08dc6b8c978617eb",
     "locked": false,
     "schema_version": 1,
     "solution": true
    }
   },
   "outputs": [],
   "source": [
    "# We start by importing the dataset\n",
    "data = datasets.load_wine()\n",
    "\n",
    "# Now do a train test split, using the train_test_split function from scikit\n",
    "# Use a test_size of 0.33 and a random_state of 42\n",
    "# X_train, X_test, y_train, y_test = ...\n",
    "\n",
    "# YOUR CODE HERE\n",
    "raise NotImplementedError()"
   ]
  },
  {
   "cell_type": "code",
   "execution_count": null,
   "metadata": {
    "deletable": false,
    "editable": false,
    "nbgrader": {
     "grade": true,
     "grade_id": "cell-85dd231d39ba1054",
     "locked": true,
     "points": 1,
     "schema_version": 1,
     "solution": false
    }
   },
   "outputs": [],
   "source": [
    "tests = [\n",
    "    {\n",
    "        'dataset_type': 'X_train',\n",
    "        'dataset': X_train,\n",
    "        'shape_hash': '4c89825fdaebd81d00f7b45dafa18ef7b1ba1ae7842ef7d783557c3c9ddf7a03',\n",
    "        'values_hash': '4fd0cb9ba5b0a33924cd116523fc1a46735e989b506ca07725e186e0c18ceb8e'\n",
    "    },\n",
    "    {\n",
    "        'dataset_type': 'X_test',\n",
    "        'dataset': X_test,\n",
    "        'shape_hash': 'f6c8d3daeed9b2c2df64a756aa8d44614e45f108d571247865e59315fbfe578f',\n",
    "        'values_hash': 'e1c8d0dc51fa012ea487922c50e73e06314d85730bbf32c5e345be9c8250918f'\n",
    "    },\n",
    "    {\n",
    "        'dataset_type': 'y_train',\n",
    "        'dataset': y_train,\n",
    "        'shape_hash': 'ea38832e303c9a40cfe8b6160fd949f7317febe9633fc7c8a1153aa5e7c2512e',\n",
    "        'values_hash': '5ac21bb78523efde1c194a087c2ab4898ad8cf84017cd15d280c8df1b13ada44'\n",
    "    },\n",
    "    {\n",
    "        'dataset_type': 'y_test',\n",
    "        'dataset': y_test,\n",
    "        'shape_hash': '8f332db1356cb4786b468baab31bd75565bd751de9d984c92f9defbcc3ef172d',\n",
    "        'values_hash': '41701c5530d04eaf464e9166d0749f5afc382934f2ebbb2cfc1b558b882c01e8'\n",
    "    },\n",
    "]\n",
    "\n",
    "for test in tests:\n",
    "    shape_hash = hashlib.sha256(json.dumps(test['dataset'].shape).encode()).hexdigest()\n",
    "    values_hash = hashlib.sha256(pd.DataFrame(np.array(test['dataset'])).to_msgpack()).hexdigest()\n",
    "\n",
    "    assert isinstance(test['dataset'], np.ndarray), f\"{test['dataset_type']} should be a numpy array!\"\n",
    "    assert shape_hash == test['shape_hash'], \"The returned numpy array has the wrong shape!\"\n",
    "    assert values_hash == test['values_hash'], \"The returned numpy array has the wrong values!\""
   ]
  },
  {
   "cell_type": "code",
   "execution_count": null,
   "metadata": {
    "deletable": false,
    "nbgrader": {
     "grade": false,
     "grade_id": "cell-bf5bdec884565df8",
     "locked": false,
     "schema_version": 1,
     "solution": true
    }
   },
   "outputs": [],
   "source": [
    "# Now instantiate a kNN Classifier with k=3, that uses the euclidean distance as distance function\n",
    "# In scikit, the euclidean distance is the default one and goes by the name of 'minkowski'\n",
    "# which is in fact a generalisation of the euclidean distance\n",
    "# clf = ...\n",
    "# YOUR CODE HERE\n",
    "raise NotImplementedError()\n",
    "\n",
    "\n",
    "# Get predictions for the test dataset\n",
    "# y_pred = ...\n",
    "# YOUR CODE HERE\n",
    "raise NotImplementedError()\n",
    "\n",
    "# Measure the accuracy of your solution using scikit's accuracy_score function\n",
    "# accuracy = ...\n",
    "# YOUR CODE HERE\n",
    "raise NotImplementedError()"
   ]
  },
  {
   "cell_type": "code",
   "execution_count": null,
   "metadata": {
    "deletable": false,
    "editable": false,
    "nbgrader": {
     "grade": true,
     "grade_id": "cell-04b5eaa6dd765f64",
     "locked": true,
     "points": 1,
     "schema_version": 1,
     "solution": false
    }
   },
   "outputs": [],
   "source": [
    "assert isinstance(clf, KNeighborsClassifier)\n",
    "assert clf.n_neighbors == 3\n",
    "assert clf.metric == 'minkowski'\n",
    "\n",
    "assert isinstance(y_pred, np.ndarray)\n",
    "\n",
    "shape_hash = '8f332db1356cb4786b468baab31bd75565bd751de9d984c92f9defbcc3ef172d'\n",
    "error_msg = \"The y_pred array doesn't have the right shape!\"\n",
    "assert shape_hash == hashlib.sha256(json.dumps(y_pred.shape).encode()).hexdigest(), error_msg\n",
    "\n",
    "value_hash = '3bc1e9586a732b1fc774f85a21d3422766511fb9f50b27f9b6bef835ba8a65f7'\n",
    "error_msg = \"The y_pred array doesn't have the right values!\"\n",
    "assert value_hash == hashlib.sha256(pd.DataFrame(y_pred).to_msgpack()).hexdigest(), error_msg\n",
    "\n",
    "assert isinstance(accuracy, float)\n",
    "\n",
    "accuracy_value_hash = 'a6eb354ca114c16937ef77d6e40a2fbdf82fccc0b86cf27b43c2d08a126d70b4'\n",
    "error_msg = \"The accuracy doesn't have the right value!\"\n",
    "assert accuracy_value_hash == hashlib.sha256(bytes(str(accuracy), encoding='utf8')).hexdigest(), error_msg"
   ]
  },
  {
   "cell_type": "markdown",
   "metadata": {
    "deletable": false,
    "editable": false,
    "nbgrader": {
     "grade": false,
     "grade_id": "cell-967467f1173ef45d",
     "locked": true,
     "schema_version": 1,
     "solution": false
    }
   },
   "source": [
    "## Exercise 12\n",
    "\n",
    "Now we want to see the difference if we use the cosine distance instead of the euclidean distance.\n",
    "\n",
    "Go through the same steps as the previous exercise, but use the cosine distance as the distance metric in the knn classifier."
   ]
  },
  {
   "cell_type": "code",
   "execution_count": null,
   "metadata": {
    "deletable": false,
    "nbgrader": {
     "grade": false,
     "grade_id": "cell-2d3c89f8bdfa66f9",
     "locked": false,
     "schema_version": 1,
     "solution": true
    }
   },
   "outputs": [],
   "source": [
    "# Instantiate a kNN Classifier with k=3, that uses the cosine distance as distance function\n",
    "# clf = ...\n",
    "# YOUR CODE HERE\n",
    "raise NotImplementedError()\n",
    "\n",
    "\n",
    "# Get predictions for the test dataset\n",
    "# y_pred = ...\n",
    "# YOUR CODE HERE\n",
    "raise NotImplementedError()\n",
    "\n",
    "# Measure the accuracy of your solution using scikit's accuracy_score function\n",
    "# accuracy = ...\n",
    "# YOUR CODE HERE\n",
    "raise NotImplementedError()"
   ]
  },
  {
   "cell_type": "code",
   "execution_count": null,
   "metadata": {
    "deletable": false,
    "editable": false,
    "nbgrader": {
     "grade": true,
     "grade_id": "cell-27bbc70efc45d988",
     "locked": true,
     "points": 1,
     "schema_version": 1,
     "solution": false
    }
   },
   "outputs": [],
   "source": [
    "assert isinstance(clf, KNeighborsClassifier)\n",
    "assert clf.n_neighbors == 3\n",
    "assert clf.metric == cosine\n",
    "\n",
    "assert isinstance(y_pred, np.ndarray)\n",
    "\n",
    "shape_hash = '8f332db1356cb4786b468baab31bd75565bd751de9d984c92f9defbcc3ef172d'\n",
    "error_msg = \"The y_pred array doesn't have the right shape!\"\n",
    "assert shape_hash == hashlib.sha256(json.dumps(y_pred.shape).encode()).hexdigest(), error_msg\n",
    "\n",
    "value_hash = 'a097c561bc2aac8ffb5e18ca346253cb827263de91dd04c0ea51076090ac4af4'\n",
    "error_msg = \"The y_pred array doesn't have the right values!\"\n",
    "assert value_hash == hashlib.sha256(pd.DataFrame(y_pred).to_msgpack()).hexdigest(), error_msg\n",
    "\n",
    "assert isinstance(accuracy, float)\n",
    "\n",
    "accuracy_value_hash = 'b1532034c2aa9f491615827f3c6f6996d360d81f0a5714b94984f324d9a9490b'\n",
    "error_msg = \"The accuracy doesn't have the right value!\"\n",
    "assert accuracy_value_hash == hashlib.sha256(bytes(str(accuracy), encoding='utf8')).hexdigest(), error_msg"
   ]
  },
  {
   "cell_type": "markdown",
   "metadata": {
    "deletable": false,
    "editable": false,
    "nbgrader": {
     "grade": false,
     "grade_id": "cell-202c9f284ddef192",
     "locked": true,
     "schema_version": 1,
     "solution": false
    }
   },
   "source": [
    "And we're done! Nice job ;)"
   ]
  },
  {
   "cell_type": "markdown",
   "metadata": {
    "deletable": false,
    "editable": false,
    "nbgrader": {
     "grade": false,
     "grade_id": "cell-1a098c74dbde1f1a",
     "locked": true,
     "schema_version": 1,
     "solution": false
    }
   },
   "source": [
    "![were_done](media/were_done.gif)"
   ]
  }
 ],
 "metadata": {
  "kernelspec": {
   "display_name": "Python 3",
   "language": "python",
   "name": "python3"
  },
  "language_info": {
   "codemirror_mode": {
    "name": "ipython",
    "version": 3
   },
   "file_extension": ".py",
   "mimetype": "text/x-python",
   "name": "python",
   "nbconvert_exporter": "python",
   "pygments_lexer": "ipython3",
   "version": "3.7.3"
  }
 },
 "nbformat": 4,
 "nbformat_minor": 2
}
