{
 "cells": [
  {
   "cell_type": "markdown",
   "metadata": {
    "nbgrader": {
     "grade": false,
     "grade_id": "cell-46d843154dcd7d0f",
     "locked": true,
     "schema_version": 1,
     "solution": false
    }
   },
   "source": [
    "# SLU1 - Pandas 101: Exercise notebook"
   ]
  },
  {
   "cell_type": "code",
   "execution_count": null,
   "metadata": {},
   "outputs": [],
   "source": [
    "import pandas as pd"
   ]
  },
  {
   "cell_type": "markdown",
   "metadata": {
    "nbgrader": {
     "grade": false,
     "grade_id": "cell-4a34bd8a41530e62",
     "locked": true,
     "schema_version": 1,
     "solution": false
    }
   },
   "source": [
    "In this notebook the following is tested:\n",
    "\n",
    "- Pandas Series\n",
    "- Pandas DataFrames\n",
    "- Adding columns to a dataframe\n",
    "- Printing the columns\n",
    "- Load a dataset\n",
    "- Preview a dataframe\n",
    "- Make use of info, describe and shape"
   ]
  },
  {
   "cell_type": "markdown",
   "metadata": {
    "nbgrader": {
     "grade": false,
     "grade_id": "cell-13b85f82dcf86759",
     "locked": true,
     "schema_version": 1,
     "solution": false
    }
   },
   "source": [
    "## Useful information"
   ]
  },
  {
   "cell_type": "markdown",
   "metadata": {
    "nbgrader": {
     "grade": false,
     "grade_id": "cell-e7798beaadda7ece",
     "locked": true,
     "schema_version": 1,
     "solution": false
    }
   },
   "source": [
    "|    Country    | Population |   Capital  | Area (km^2) | Population Density (/km^2) | Main Religion | GDP (B) | Has Sovereign State? |\n",
    "|:-------------:|:----------:|:----------:|:-----------:|:--------------------------:|:-------------:|:-------:|:--------------------:|\n",
    "|    Denmark    |   5724456  | Copenhagen |    43094    |            129.5           |    Lutheran   |  306.7  |          No          |\n",
    "|    Finland    |   5498211  |  Helsinki  |    338145   |            16.2            |    Lutheran   |  236.8  |          No          |\n",
    "|    Iceland    |   335878   |  Reykjavík |    103000   |             3.2            |    Lutheran   |   20.0  |          No          |\n",
    "|     Norway    |   5265158  |    Oslo    |    323802   |            16.1            |    Lutheran   |  370.4  |          No          |\n",
    "|   Greenland   |    56483   |    Nuuk    |   2166086   |            0.028           |    Lutheran   |   2.22  |          Yes         |\n",
    "| Faroe Islands |    49188   |  Tórshavn  |     1393    |            35.5            |    Lutheran   |   2.77  |          Yes         |"
   ]
  },
  {
   "cell_type": "markdown",
   "metadata": {
    "nbgrader": {
     "grade": false,
     "grade_id": "cell-8cb295450c798c5e",
     "locked": true,
     "schema_version": 1,
     "solution": false
    }
   },
   "source": [
    "---"
   ]
  },
  {
   "cell_type": "markdown",
   "metadata": {
    "nbgrader": {
     "grade": false,
     "grade_id": "cell-338b88f7b1299ed2",
     "locked": true,
     "schema_version": 1,
     "solution": false
    }
   },
   "source": [
    "## Exercise 1: Series\n",
    "\n",
    "In this first exercise the goal is to get used to creating series."
   ]
  },
  {
   "cell_type": "markdown",
   "metadata": {
    "nbgrader": {
     "grade": false,
     "grade_id": "cell-546708e14b12ee66",
     "locked": true,
     "schema_version": 1,
     "solution": false
    }
   },
   "source": [
    "#### 1.1) Create a series for the countries"
   ]
  },
  {
   "cell_type": "code",
   "execution_count": null,
   "metadata": {
    "nbgrader": {
     "grade": false,
     "grade_id": "cell-6e62f4a661edbaf0",
     "locked": false,
     "schema_version": 1,
     "solution": true
    }
   },
   "outputs": [],
   "source": [
    "# YOUR CODE HERE\n",
    "raise NotImplementedError()"
   ]
  },
  {
   "cell_type": "code",
   "execution_count": null,
   "metadata": {
    "nbgrader": {
     "grade": true,
     "grade_id": "cell-e1f0144e6b6e35ff",
     "locked": true,
     "points": 3,
     "schema_version": 1,
     "solution": false
    }
   },
   "outputs": [],
   "source": [
    "assert isinstance(countries, pd.Series), \"Should be of type pd.Series\"\n",
    "assert (countries == [\"Denmark\", \"Finland\", \"Iceland\", \"Norway\", \"Greenland\", \"Faroe Islands\"]).all()"
   ]
  },
  {
   "cell_type": "markdown",
   "metadata": {
    "nbgrader": {
     "grade": false,
     "grade_id": "cell-6067ad8a05fb3ecb",
     "locked": true,
     "schema_version": 1,
     "solution": false
    }
   },
   "source": [
    "#### 1.2) Create a series for the capitals (using countries as index)"
   ]
  },
  {
   "cell_type": "code",
   "execution_count": null,
   "metadata": {
    "nbgrader": {
     "grade": false,
     "grade_id": "cell-7c2e90bd431de044",
     "locked": false,
     "schema_version": 1,
     "solution": true
    }
   },
   "outputs": [],
   "source": [
    "# YOUR CODE HERE\n",
    "raise NotImplementedError()"
   ]
  },
  {
   "cell_type": "code",
   "execution_count": null,
   "metadata": {
    "nbgrader": {
     "grade": true,
     "grade_id": "cell-2a4b1b45d511997f",
     "locked": true,
     "points": 2,
     "schema_version": 1,
     "solution": false
    }
   },
   "outputs": [],
   "source": [
    "assert isinstance(capitals, pd.Series), \"Should be of type pd.Series\"\n",
    "assert (capitals == [\"Copenhagen\", \"Helsinki\", \"Reykjavík\", \"Oslo\", \"Nuuk\", \"Tórshavn\"]).all()\n",
    "assert (capitals.index == [\"Denmark\", \"Finland\", \"Iceland\", \"Norway\", \"Greenland\", \"Faroe Islands\"]).all()"
   ]
  },
  {
   "cell_type": "markdown",
   "metadata": {
    "nbgrader": {
     "grade": false,
     "grade_id": "cell-56d12908a339a588",
     "locked": true,
     "schema_version": 1,
     "solution": false
    }
   },
   "source": [
    "---"
   ]
  },
  {
   "cell_type": "markdown",
   "metadata": {
    "nbgrader": {
     "grade": false,
     "grade_id": "cell-87852a65f0e6efec",
     "locked": true,
     "schema_version": 1,
     "solution": false
    }
   },
   "source": [
    "## Exercise 2: DataFrames\n",
    "\n",
    "In this exercise the goal is to create a simple DataFrame comprising the information provided in the \"Useful Information\" section."
   ]
  },
  {
   "cell_type": "markdown",
   "metadata": {
    "nbgrader": {
     "grade": false,
     "grade_id": "cell-527ef2a9563bc605",
     "locked": true,
     "schema_version": 1,
     "solution": false
    }
   },
   "source": [
    "#### 2.1) Create a DataFrame with countries/capital/population columns"
   ]
  },
  {
   "cell_type": "code",
   "execution_count": null,
   "metadata": {
    "nbgrader": {
     "grade": false,
     "grade_id": "cell-1203e8c99879dd1a",
     "locked": false,
     "schema_version": 1,
     "solution": true
    }
   },
   "outputs": [],
   "source": [
    "# YOUR CODE HERE\n",
    "raise NotImplementedError()"
   ]
  },
  {
   "cell_type": "code",
   "execution_count": null,
   "metadata": {
    "nbgrader": {
     "grade": true,
     "grade_id": "cell-59ff17beb4240534",
     "locked": true,
     "points": 3,
     "schema_version": 1,
     "solution": false
    }
   },
   "outputs": [],
   "source": [
    "assert isinstance(nordic_countries, pd.DataFrame), \"Should be of type pd.DataFrame\"\n",
    "assert (nordic_countries[\"capital\"] == [\"Copenhagen\", \"Helsinki\", \"Reykjavík\", \"Oslo\", \"Nuuk\", \"Tórshavn\"]).all()\n",
    "assert (nordic_countries[\"countries\"] == [\"Denmark\", \"Finland\", \"Iceland\", \"Norway\", \"Greenland\", \"Faroe Islands\"]).all()\n",
    "assert (nordic_countries[\"population\"] == [5724456, 5498211, 335878, 5265158, 56483, 49188]).all()"
   ]
  },
  {
   "cell_type": "markdown",
   "metadata": {
    "nbgrader": {
     "grade": false,
     "grade_id": "cell-d52d8de1b6c31df5",
     "locked": true,
     "schema_version": 1,
     "solution": false
    }
   },
   "source": [
    "The expected output is a dataframe with columns named \"capital\", \"countries\" and \"population\", indexed from 0 to 5."
   ]
  },
  {
   "cell_type": "markdown",
   "metadata": {
    "nbgrader": {
     "grade": false,
     "grade_id": "cell-64ecee72dc5a83a1",
     "locked": true,
     "schema_version": 1,
     "solution": false
    }
   },
   "source": [
    "#### 2.2) Create a DataFrame with the capital/population columns, but with countries as row indexes"
   ]
  },
  {
   "cell_type": "code",
   "execution_count": null,
   "metadata": {
    "nbgrader": {
     "grade": false,
     "grade_id": "cell-689992e365127432",
     "locked": false,
     "schema_version": 1,
     "solution": true
    }
   },
   "outputs": [],
   "source": [
    "# YOUR CODE HERE\n",
    "raise NotImplementedError()"
   ]
  },
  {
   "cell_type": "code",
   "execution_count": null,
   "metadata": {
    "nbgrader": {
     "grade": true,
     "grade_id": "cell-aa4f3ae216111a48",
     "locked": true,
     "points": 2,
     "schema_version": 1,
     "solution": false
    }
   },
   "outputs": [],
   "source": [
    "assert isinstance(nordic_countries_ind, pd.DataFrame), \"Should be of type pd.DataFrame\"\n",
    "assert (nordic_countries_ind[\"capital\"] == [\"Copenhagen\", \"Helsinki\", \"Reykjavík\", \"Oslo\", \"Nuuk\", \"Tórshavn\"]).all()\n",
    "assert (nordic_countries_ind[\"population\"] == [5724456, 5498211, 335878, 5265158, 56483, 49188]).all()\n",
    "assert (nordic_countries_ind.index == [\"Denmark\", \"Finland\", \"Iceland\", \"Norway\", \"Greenland\", \"Faroe Islands\"]).all()"
   ]
  },
  {
   "cell_type": "markdown",
   "metadata": {
    "nbgrader": {
     "grade": false,
     "grade_id": "cell-9ee404bd4284013a",
     "locked": true,
     "schema_version": 1,
     "solution": false
    }
   },
   "source": [
    "The expected output is a dataframe with columns named \"capital\", \"population\", indexed with the correct countries."
   ]
  },
  {
   "cell_type": "markdown",
   "metadata": {
    "nbgrader": {
     "grade": false,
     "grade_id": "cell-578bc3cd1579d0d6",
     "locked": true,
     "schema_version": 1,
     "solution": false
    }
   },
   "source": [
    "#### 2.3) Going back to the 2.1 DataFrame, add columns with information concerning the gdp and the main religion (Do not create a dataframe from scratch)"
   ]
  },
  {
   "cell_type": "code",
   "execution_count": null,
   "metadata": {
    "nbgrader": {
     "grade": false,
     "grade_id": "cell-ca9e66b218fd9ae1",
     "locked": false,
     "schema_version": 1,
     "solution": true
    }
   },
   "outputs": [],
   "source": [
    "# YOUR CODE HERE\n",
    "raise NotImplementedError()"
   ]
  },
  {
   "cell_type": "code",
   "execution_count": null,
   "metadata": {
    "nbgrader": {
     "grade": true,
     "grade_id": "cell-81a422801f205db6",
     "locked": true,
     "points": 2,
     "schema_version": 1,
     "solution": false
    }
   },
   "outputs": [],
   "source": [
    "assert isinstance(nordic_countries, pd.DataFrame), \"Should be of type pd.DataFrame\"\n",
    "assert (nordic_countries[\"gdp\"] == [306.7, 236.8, 20.0, 370.4, 2.22, 2.77]).all()\n",
    "assert (nordic_countries[\"mainReligion\"] == [\"Lutheran\", \"Lutheran\", \"Lutheran\", \"Lutheran\", \"Lutheran\", \"Lutheran\"]).all()\n",
    "assert set(nordic_countries.columns) == {\"capital\", \"countries\", \"population\", \"gdp\", \"mainReligion\"}"
   ]
  },
  {
   "cell_type": "markdown",
   "metadata": {
    "nbgrader": {
     "grade": false,
     "grade_id": "cell-c1cce2bf31b015df",
     "locked": true,
     "schema_version": 1,
     "solution": false
    }
   },
   "source": [
    "The expected output is a dataframe with columns \"capital\", \"countries\", \"population\", \"gdp\" and \"mainReligion\", indexed from 0 to 5."
   ]
  },
  {
   "cell_type": "markdown",
   "metadata": {
    "nbgrader": {
     "grade": false,
     "grade_id": "cell-da82179dfe5e2642",
     "locked": true,
     "schema_version": 1,
     "solution": false
    }
   },
   "source": [
    "## Exercise 3: Load the Iris csv data set"
   ]
  },
  {
   "cell_type": "markdown",
   "metadata": {
    "nbgrader": {
     "grade": false,
     "grade_id": "cell-2fde7dcb875ebf32",
     "locked": true,
     "schema_version": 1,
     "solution": false
    }
   },
   "source": [
    "In this exercise you will load the iris data set ([source](https://gist.github.com/curran/a08a1080b88344b0c8a7)), one of the standard data sets for students of this field. You will then preview it and retrieve some information."
   ]
  },
  {
   "cell_type": "markdown",
   "metadata": {
    "nbgrader": {
     "grade": false,
     "grade_id": "cell-3a53411f868133c2",
     "locked": true,
     "schema_version": 1,
     "solution": false
    }
   },
   "source": [
    "#### 3.1) Load the Iris data set"
   ]
  },
  {
   "cell_type": "code",
   "execution_count": null,
   "metadata": {
    "nbgrader": {
     "grade": false,
     "grade_id": "cell-2a993c3e52e74d05",
     "locked": false,
     "schema_version": 1,
     "solution": true
    }
   },
   "outputs": [],
   "source": [
    "# YOUR CODE HERE\n",
    "raise NotImplementedError()"
   ]
  },
  {
   "cell_type": "code",
   "execution_count": null,
   "metadata": {
    "nbgrader": {
     "grade": true,
     "grade_id": "cell-3d25559c7d603e24",
     "locked": true,
     "points": 2,
     "schema_version": 1,
     "solution": false
    }
   },
   "outputs": [],
   "source": [
    "assert isinstance(iris_df, pd.DataFrame), \"Should be of type pd.DataFrame\""
   ]
  },
  {
   "cell_type": "markdown",
   "metadata": {
    "nbgrader": {
     "grade": false,
     "grade_id": "cell-581659c2a002638a",
     "locked": true,
     "schema_version": 1,
     "solution": false
    }
   },
   "source": [
    "#### 3.2) Get general information about the dataframe"
   ]
  },
  {
   "cell_type": "code",
   "execution_count": null,
   "metadata": {
    "nbgrader": {
     "grade": false,
     "grade_id": "cell-4e4fc6fed6166103",
     "locked": false,
     "schema_version": 1,
     "solution": true
    }
   },
   "outputs": [],
   "source": [
    "# YOUR CODE HERE\n",
    "raise NotImplementedError()"
   ]
  },
  {
   "cell_type": "markdown",
   "metadata": {
    "nbgrader": {
     "grade": false,
     "grade_id": "cell-4ef5a36ad2f38399",
     "locked": true,
     "schema_version": 1,
     "solution": false
    }
   },
   "source": [
    "#### 3.3) Preview the top 10 entries"
   ]
  },
  {
   "cell_type": "code",
   "execution_count": null,
   "metadata": {
    "nbgrader": {
     "grade": false,
     "grade_id": "cell-061a4e39b26e985f",
     "locked": false,
     "schema_version": 1,
     "solution": true
    }
   },
   "outputs": [],
   "source": [
    "# YOUR CODE HERE\n",
    "raise NotImplementedError()"
   ]
  },
  {
   "cell_type": "markdown",
   "metadata": {
    "nbgrader": {
     "grade": false,
     "grade_id": "cell-c406f12fb9c52cc8",
     "locked": true,
     "schema_version": 1,
     "solution": false
    }
   },
   "source": [
    "#### 3.4) Preview the bottom 10 entries"
   ]
  },
  {
   "cell_type": "code",
   "execution_count": null,
   "metadata": {
    "nbgrader": {
     "grade": false,
     "grade_id": "cell-98235f4828bd77e5",
     "locked": false,
     "schema_version": 1,
     "solution": true
    }
   },
   "outputs": [],
   "source": [
    "# YOUR CODE HERE\n",
    "raise NotImplementedError()"
   ]
  },
  {
   "cell_type": "markdown",
   "metadata": {
    "nbgrader": {
     "grade": false,
     "grade_id": "cell-52dbcc3ea12df118",
     "locked": true,
     "schema_version": 1,
     "solution": false
    }
   },
   "source": [
    "#### 3.5) Print the number of rows and the number of columns"
   ]
  },
  {
   "cell_type": "code",
   "execution_count": null,
   "metadata": {
    "nbgrader": {
     "grade": false,
     "grade_id": "cell-0c5b18b72aed8fc2",
     "locked": false,
     "schema_version": 1,
     "solution": true
    }
   },
   "outputs": [],
   "source": [
    "# YOUR CODE HERE\n",
    "raise NotImplementedError()"
   ]
  },
  {
   "cell_type": "code",
   "execution_count": null,
   "metadata": {
    "nbgrader": {
     "grade": true,
     "grade_id": "cell-c985768142805f1a",
     "locked": true,
     "points": 2,
     "schema_version": 1,
     "solution": false
    }
   },
   "outputs": [],
   "source": [
    "assert nr_rows == 150\n",
    "assert nr_cols == 5"
   ]
  },
  {
   "cell_type": "markdown",
   "metadata": {
    "nbgrader": {
     "grade": false,
     "grade_id": "cell-dbf32407dea0bc9f",
     "locked": true,
     "schema_version": 1,
     "solution": false
    }
   },
   "source": [
    "#### 3.6) Create a list with the variable (column) names"
   ]
  },
  {
   "cell_type": "code",
   "execution_count": null,
   "metadata": {
    "nbgrader": {
     "grade": false,
     "grade_id": "cell-5cab778da54f035c",
     "locked": false,
     "schema_version": 1,
     "solution": true
    }
   },
   "outputs": [],
   "source": [
    "# YOUR CODE HERE\n",
    "raise NotImplementedError()"
   ]
  },
  {
   "cell_type": "code",
   "execution_count": null,
   "metadata": {
    "nbgrader": {
     "grade": true,
     "grade_id": "cell-c4048ebebd4e4628",
     "locked": true,
     "points": 2,
     "schema_version": 1,
     "solution": false
    }
   },
   "outputs": [],
   "source": [
    "assert \"sepal_width\" in list_of_variables\n",
    "assert \"species\" in list_of_variables\n",
    "assert \"sepal_length\" in list_of_variables"
   ]
  },
  {
   "cell_type": "markdown",
   "metadata": {
    "nbgrader": {
     "grade": false,
     "grade_id": "cell-aacfce484e77b1cb",
     "locked": true,
     "schema_version": 1,
     "solution": false
    }
   },
   "source": [
    "The expected output is a list with \"sepal_length\", \"sepal_width\", \"petal_length\", \"petal_width\" and \"species\"."
   ]
  },
  {
   "cell_type": "markdown",
   "metadata": {
    "nbgrader": {
     "grade": false,
     "grade_id": "cell-4c407fde66083178",
     "locked": true,
     "schema_version": 1,
     "solution": false
    }
   },
   "source": [
    "#### 3.7) Making use of describe() what is the mean value of the petal length?"
   ]
  },
  {
   "cell_type": "code",
   "execution_count": null,
   "metadata": {
    "nbgrader": {
     "grade": false,
     "grade_id": "cell-48a24d2e60beee08",
     "locked": false,
     "schema_version": 1,
     "solution": true
    }
   },
   "outputs": [],
   "source": [
    "# YOUR CODE HERE\n",
    "raise NotImplementedError()"
   ]
  },
  {
   "cell_type": "code",
   "execution_count": null,
   "metadata": {
    "nbgrader": {
     "grade": false,
     "grade_id": "cell-b619728041762ed8",
     "locked": false,
     "schema_version": 1,
     "solution": true
    }
   },
   "outputs": [],
   "source": [
    "# YOUR CODE HERE\n",
    "raise NotImplementedError()"
   ]
  },
  {
   "cell_type": "code",
   "execution_count": null,
   "metadata": {
    "nbgrader": {
     "grade": true,
     "grade_id": "cell-91a22885dd4121c5",
     "locked": true,
     "points": 2,
     "schema_version": 1,
     "solution": false
    }
   },
   "outputs": [],
   "source": [
    "assert petal_length_mean < 3.8 and petal_length_mean > 3.7"
   ]
  }
 ],
 "metadata": {
  "kernelspec": {
   "display_name": "Python 3",
   "language": "python",
   "name": "python3"
  },
  "language_info": {
   "codemirror_mode": {
    "name": "ipython",
    "version": 3
   },
   "file_extension": ".py",
   "mimetype": "text/x-python",
   "name": "python",
   "nbconvert_exporter": "python",
   "pygments_lexer": "ipython3",
   "version": "3.6.7"
  }
 },
 "nbformat": 4,
 "nbformat_minor": 2
}
